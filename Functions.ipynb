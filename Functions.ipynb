{
 "cells": [
  {
   "cell_type": "markdown",
   "metadata": {
    "id": "UXlTtY_57hZP"
   },
   "source": [
    "#Functions\n"
   ]
  },
  {
   "cell_type": "markdown",
   "metadata": {
    "id": "nqux9Ea8767K"
   },
   "source": [
    "1.What is the difference between a function and a method in Python?\n",
    "  - Function: A block of reusable code defined using def or lambda, and not necessarily tied to objects.\n",
    "\n",
    "- Method: A function that is associated with an object (i.e., belongs to a class or an instance). It is called using dot notation (e.g., obj.method()).\n",
    "\n",
    "2.Explain the concept of function arguments and parameters in Python?\n",
    "- Parameters: The variables listed in the function definition.\n",
    "\n",
    "- Arguments: The actual values passed to the function when it is called.\n",
    "\n",
    "            def greet(name):  # name is a parameter\n",
    "              print(\"Hello\", name)\n",
    "            greet(\"Alice\")  # \"Alice\" is an argument\n",
    "\n",
    "3.What are the different ways to define and call a function in Python?\n",
    "\n",
    "- Define:\n",
    "\n",
    "  1.Using def\n",
    "\n",
    "  2.Using lambda (anonymous function)\n",
    "\n",
    "      def add(x, y): return x + y\n",
    "      sum = lambda x, y: x + y\n",
    "\n",
    "\n",
    "  Call:\n",
    "\n",
    "  add(3, 4)\n",
    "\n",
    "  sum(3, 4)\n",
    "\n",
    "4.What is the purpose of the `return` statement in a Python function?\n",
    "- It ends a function and optionally sends back a value to the caller.\n",
    "\n",
    "         def square(x):\n",
    "         return x * x\n",
    "5.What are iterators in Python and how do they differ from iterables?\n",
    "\n",
    "  - Iterable: Any object you can loop over (list, str, tuple, etc.).\n",
    "\n",
    "- Iterator: An object with a __next__() method that returns elements one at a time.\n",
    "\n",
    "      lst = [1, 2, 3]          # Iterable\n",
    "      it = iter(lst)           # Iterator\n",
    "      print(next(it))          # 1\n",
    "6.Explain the concept of generators in Python and how they are defined?\n",
    "- Generators are special functions that return values one at a time using the yield keyword.\n",
    "\n",
    "  They don’t store all values in memory,they generate them on the fly.\n",
    "\n",
    "   How to define a generator:\n",
    "\n",
    "\n",
    "        def square_num(n):\n",
    "            for i in range(n):\n",
    "                yield i**2\n",
    "7.What are the advantages of using generators over regular functions?\n",
    "- Use less memory – They don’t store all results at once.\n",
    "\n",
    "- Faster for large data – Values are made one at a time.\n",
    "\n",
    "- Can be infinite – Good for endless data streams.\n",
    "\n",
    "- Save system resources – Especially in loops and big data.\n",
    "\n",
    "8.What is a lambda function in Python and when is it typically used?\n",
    "- A lambda function is a small, unnamed function defined with lambda.\n",
    "\n",
    "   It’s used for simple tasks where you need a quick function without writing a full def.\n",
    "\n",
    "       lambda x: x * 2\n",
    "9.Explain the purpose and usage of the map() function in Python.\n",
    "- map() applies a function to each item in a list (or any iterable) and returns the results.\n",
    "\n",
    "        numbers = [1, 2, 3]\n",
    "        result = map(lambda x: x * 2, numbers)\n",
    "        print(list(result))\n",
    "        output: [2, 4, 6]\n",
    "\n",
    "10. What is the difference between `map()`, `reduce()`, and `filter()` functions in Python?\n",
    "- map(): Applies a function to every item in a list (or iterable).\n",
    "\n",
    "- filter(): Keeps items only if a function returns True for them.\n",
    "\n",
    "- reduce(): Combines all items into one single value using a function.\n",
    "\n",
    "            from functools import reduce\n",
    "            numbers = [1, 2, 3, 4]\n",
    "\n",
    "            print(list(map(lambda x: x*2, numbers)))      # [2, 4, 6, 8]\n",
    "            print(list(filter(lambda x: x % 2 == 0, numbers)))  # [2, 4]\n",
    "            print(reduce(lambda x, y: x + y, numbers))    # 10\n",
    "\n",
    "11. Using pen & Paper write the internal mechanism for sum operation using  reduce function on this given  list:[47,11,42,13];\n",
    "\n",
    "\n",
    "     from IPython.display import Image\n",
    "\n",
    "     Image(\"11.Q.pdf\")\n"
   ]
  },
  {
   "cell_type": "code",
   "execution_count": 2,
   "metadata": {
    "colab": {
     "base_uri": "https://localhost:8080/"
    },
    "executionInfo": {
     "elapsed": 16,
     "status": "ok",
     "timestamp": 1759230183386,
     "user": {
      "displayName": "yashodha s",
      "userId": "10280916827905238660"
     },
     "user_tz": -330
    },
    "id": "dU9nMH507L65",
    "outputId": "cc212380-bc6c-4c6d-e9c8-0bd6ea7ea98e"
   },
   "outputs": [
    {
     "name": "stdout",
     "output_type": "stream",
     "text": [
      "Sum of even numbers: 12\n"
     ]
    }
   ],
   "source": [
    "#1. Write a Python function that takes a list of numbers as input and returns the sum of all even numbers in the list.\n",
    "\n",
    "def sum_of_even(numbers):\n",
    "    total = 0\n",
    "    for num in numbers:\n",
    "        if num % 2 == 0:\n",
    "            total += num\n",
    "    return total\n",
    "nums = [1, 2, 3, 4, 5, 6]\n",
    "print(\"Sum of even numbers:\", sum_of_even(nums))"
   ]
  },
  {
   "cell_type": "code",
   "execution_count": 6,
   "metadata": {
    "colab": {
     "base_uri": "https://localhost:8080/"
    },
    "executionInfo": {
     "elapsed": 16,
     "status": "ok",
     "timestamp": 1759230557665,
     "user": {
      "displayName": "yashodha s",
      "userId": "10280916827905238660"
     },
     "user_tz": -330
    },
    "id": "v4-d3pK4TM02",
    "outputId": "1e4bf0d4-ebcb-4cc4-ccf7-8bc9d78eaf18"
   },
   "outputs": [
    {
     "name": "stdout",
     "output_type": "stream",
     "text": [
      "Reversed string: ESRAVINU EVOL I\n"
     ]
    }
   ],
   "source": [
    "# 2. Create a Python function that accepts a string and returns the reverse of that string\n",
    "def reverse_string(text):\n",
    "    return text[::-1]\n",
    "str1 = \"I LOVE UNIVARSE\"\n",
    "print(\"Reversed string:\", reverse_string(str1))"
   ]
  },
  {
   "cell_type": "code",
   "execution_count": 8,
   "metadata": {
    "colab": {
     "base_uri": "https://localhost:8080/"
    },
    "executionInfo": {
     "elapsed": 13,
     "status": "ok",
     "timestamp": 1759230762113,
     "user": {
      "displayName": "yashodha s",
      "userId": "10280916827905238660"
     },
     "user_tz": -330
    },
    "id": "8CcSWMpyUN0I",
    "outputId": "3ff0c917-eeda-4a90-f32e-29867c5989c9"
   },
   "outputs": [
    {
     "name": "stdout",
     "output_type": "stream",
     "text": [
      "Squared list: [1, 4, 9, 16, 25]\n"
     ]
    }
   ],
   "source": [
    "#3.Implement a Python function that takes a list of integers and returns a new list containing the squares of each number.\n",
    "\n",
    "def square_list(numbers):\n",
    "    squared = []\n",
    "    for num in numbers:\n",
    "        squared.append(num ** 2)  # square the number and add to the list\n",
    "    return squared\n",
    "nums = [1, 2, 3, 4, 5]\n",
    "print(\"Squared list:\", square_list(nums))\n"
   ]
  },
  {
   "cell_type": "code",
   "execution_count": 13,
   "metadata": {
    "colab": {
     "base_uri": "https://localhost:8080/"
    },
    "executionInfo": {
     "elapsed": 39,
     "status": "ok",
     "timestamp": 1759231174093,
     "user": {
      "displayName": "yashodha s",
      "userId": "10280916827905238660"
     },
     "user_tz": -330
    },
    "id": "ty_OR-gyVLjY",
    "outputId": "30253ae4-38a4-4e8e-dff6-62073beea120"
   },
   "outputs": [
    {
     "name": "stdout",
     "output_type": "stream",
     "text": [
      "3 is prime?  True\n"
     ]
    }
   ],
   "source": [
    "#4.Write a Python function that checks if a given number is prime or not from 1 to 200\n",
    "\n",
    "def is_prime(n):\n",
    "    if n < 2 or n > 200:\n",
    "        return False  # Not in valid range\n",
    "    for i in range(2, int(n**0.5) + 1):\n",
    "        if n % i == 0:\n",
    "            return False\n",
    "    return True\n",
    "num = 3\n",
    "print(f\"{num} is prime?  {is_prime(num)}\")"
   ]
  },
  {
   "cell_type": "code",
   "execution_count": 14,
   "metadata": {
    "colab": {
     "base_uri": "https://localhost:8080/"
    },
    "executionInfo": {
     "elapsed": 45,
     "status": "ok",
     "timestamp": 1759231413004,
     "user": {
      "displayName": "yashodha s",
      "userId": "10280916827905238660"
     },
     "user_tz": -330
    },
    "id": "7SjUuMBgWfbR",
    "outputId": "0197ee14-69d2-41b0-c297-e0095cbeb95e"
   },
   "outputs": [
    {
     "name": "stdout",
     "output_type": "stream",
     "text": [
      "0 1 1 2 3 5 8 13 21 34 "
     ]
    }
   ],
   "source": [
    "#5.Create an iterator class in Python that generates the Fibonacci sequence up to a specified number of terms.\n",
    "\n",
    "class Fibonacci:\n",
    "    def __init__(self, n):\n",
    "        self.n = n\n",
    "        self.a = 0\n",
    "        self.b = 1\n",
    "        self.count = 0\n",
    "\n",
    "    def __iter__(self):\n",
    "        return self\n",
    "\n",
    "    def __next__(self):\n",
    "        if self.count >= self.n:\n",
    "            raise StopIteration\n",
    "        if self.count == 0:\n",
    "            self.count += 1\n",
    "            return self.a\n",
    "        elif self.count == 1:\n",
    "            self.count += 1\n",
    "            return self.b\n",
    "        else:\n",
    "            self.a, self.b = self.b, self.a + self.b\n",
    "            self.count += 1\n",
    "            return self.b\n",
    "for num in Fibonacci(10):\n",
    "    print(num, end=\" \")"
   ]
  },
  {
   "cell_type": "code",
   "execution_count": 1,
   "metadata": {
    "colab": {
     "base_uri": "https://localhost:8080/"
    },
    "executionInfo": {
     "elapsed": 79,
     "status": "ok",
     "timestamp": 1759315529633,
     "user": {
      "displayName": "yashodha s",
      "userId": "10280916827905238660"
     },
     "user_tz": -330
    },
    "id": "bM8hNnq5XuXH",
    "outputId": "8865b0a5-e4c8-4641-fac7-57fa032fd32e"
   },
   "outputs": [
    {
     "name": "stdout",
     "output_type": "stream",
     "text": [
      "1 2 4 8 16 32 "
     ]
    }
   ],
   "source": [
    "#6.Write a generator function in Python that yields the powers of 2 up to a given exponent\n",
    "def powers_of_two(n):\n",
    "    for i in range(n + 1):\n",
    "        yield 2 ** i\n",
    "for value in powers_of_two(5):\n",
    "    print(value, end=\" \")"
   ]
  },
  {
   "cell_type": "code",
   "execution_count": null,
   "metadata": {
    "id": "QjZ4MoA8Y8zz"
   },
   "outputs": [],
   "source": [
    "#7.Implement a generator function that reads a file line by line and yields each line as a string.\n",
    "def read_file_lines(filename):\n",
    "    with open(filename, \"r\") as file:\n",
    "        for line in file:\n",
    "            yield line.strip()\n",
    "\n",
    "\n",
    "# Example usage:\n",
    "for line in read_file_lines(\"sample.txt\"):\n",
    "    print(line)"
   ]
  },
  {
   "cell_type": "code",
   "execution_count": 3,
   "metadata": {
    "colab": {
     "base_uri": "https://localhost:8080/"
    },
    "executionInfo": {
     "elapsed": 56,
     "status": "ok",
     "timestamp": 1759316921072,
     "user": {
      "displayName": "yashodha s",
      "userId": "10280916827905238660"
     },
     "user_tz": -330
    },
    "id": "5GjsY0J7dXfE",
    "outputId": "2c025efb-d861-4f9b-9b4e-a6617675c761"
   },
   "outputs": [
    {
     "name": "stdout",
     "output_type": "stream",
     "text": [
      "Sorted list: [(3, 1), (1, 4), (2, 6), (5, 9)]\n"
     ]
    }
   ],
   "source": [
    "#8.Use a lambda function in Python to sort a list of tuples based on the second element of each tuple.\n",
    "data = [(1, 4), (3, 1), (5, 9), (2, 6)]\n",
    "sorted_data = sorted(data, key=lambda x: x[1])\n",
    "print(\"Sorted list:\", sorted_data)"
   ]
  },
  {
   "cell_type": "code",
   "execution_count": 1,
   "metadata": {
    "colab": {
     "base_uri": "https://localhost:8080/"
    },
    "executionInfo": {
     "elapsed": 77,
     "status": "ok",
     "timestamp": 1759327600510,
     "user": {
      "displayName": "yashodha s",
      "userId": "10280916827905238660"
     },
     "user_tz": -330
    },
    "id": "sAhhO0w8Fnu9",
    "outputId": "3120f94d-a1e8-40c7-ff24-491729abddf1"
   },
   "outputs": [
    {
     "name": "stdout",
     "output_type": "stream",
     "text": [
      "Celsius:    [0, 20, 37, 100]\n",
      "Fahrenheit: [32.0, 68.0, 98.6, 212.0]\n"
     ]
    }
   ],
   "source": [
    "#9.Write a Python program that uses `map()` to convert a list of temperatures from Celsius to Fahrenheit\n",
    "def c_to_f(c):\n",
    "    return (c * 9/5) + 32\n",
    "celsius = [0, 20, 37, 100]\n",
    "fahrenheit = list(map(c_to_f, celsius))\n",
    "\n",
    "print(\"Celsius:   \", celsius)\n",
    "print(\"Fahrenheit:\", fahrenheit)"
   ]
  },
  {
   "cell_type": "code",
   "execution_count": null,
   "metadata": {
    "id": "3dK0ofDKGTiH"
   },
   "outputs": [],
   "source": [
    "#10.Create a Python program that uses filter() to remove all the vowels from a given string\n",
    "def remove_vowels(text):\n",
    "    vowels = \"aeiouAEIOU\"\n",
    "    return \"\".join(filter(lambda ch: ch not in vowels, text))\n",
    "s = \"Hello World\"\n",
    "result = remove_vowels(s)\n",
    "print(\"Original string:\", s)\n",
    "print(\"Without vowels: \", result)"
   ]
  },
  {
   "cell_type": "code",
   "execution_count": 2,
   "metadata": {
    "colab": {
     "base_uri": "https://localhost:8080/"
    },
    "executionInfo": {
     "elapsed": 80,
     "status": "ok",
     "timestamp": 1759328546109,
     "user": {
      "displayName": "yashodha s",
      "userId": "10280916827905238660"
     },
     "user_tz": -330
    },
    "id": "Q-UplJUfJDP1",
    "outputId": "4eba0e18-0300-424b-ccb3-4004b33ba4d9"
   },
   "outputs": [
    {
     "name": "stdout",
     "output_type": "stream",
     "text": [
      "[(34587, 163.8), (98762, 284.0), (77226, 108.85000000000001), (88112, 84.97)]\n"
     ]
    }
   ],
   "source": [
    "#11. Imagine an accounting routine used in a book shop. It works on a list with sublists, which look like this\n",
    "#Write a Python program, which returns a list with 2-tuples. Each tuple consists of the order number and the\n",
    "#product of the price per item and the quantity. The product should be increased by 10,- € if the value of the\n",
    "#order is smaller than 100,00 €. Write a Python program using lambda and map\n",
    "orders = [\n",
    "    [34587, \"Learning Python, Mark Lutz\", 4, 40.95],\n",
    "    [98762, \"Programming Python, Mark Lutz\", 5, 56.80],\n",
    "    [77226, \"Head First Python, Paul Barry\", 3, 32.95],\n",
    "    [88112, \"Einführung in Python3, Bernd Klein\", 3, 24.99]\n",
    "]\n",
    "\n",
    "result = list(map(lambda x: (x[0], x[2]*x[3] if x[2]*x[3] >= 100 else x[2]*x[3] + 10), orders))\n",
    "\n",
    "print(result)\n"
   ]
  }
 ],
 "metadata": {
  "colab": {
   "authorship_tag": "ABX9TyNFpT/JD43BcGRr+VIIHluw",
   "provenance": []
  },
  "kernelspec": {
   "display_name": "Python 3",
   "name": "python3"
  },
  "language_info": {
   "name": "python"
  }
 },
 "nbformat": 4,
 "nbformat_minor": 0
}
